{
 "cells": [
  {
   "cell_type": "markdown",
   "id": "8ac738f4",
   "metadata": {},
   "source": [
    "### Rose Tovar\n",
    "### Efficient Yelp Commands\n",
    "### 9/20/2022"
   ]
  },
  {
   "cell_type": "code",
   "execution_count": 1,
   "id": "7c9aa0f3",
   "metadata": {},
   "outputs": [],
   "source": [
    "# imports\n",
    "import numpy as np\n",
    "import pandas as pd\n",
    "import os, json, math, time\n",
    "from yelpapi import YelpAPI\n",
    "from tqdm.notebook import tqdm_notebook"
   ]
  },
  {
   "cell_type": "markdown",
   "id": "3e06db9d",
   "metadata": {},
   "source": [
    "### Setting up Yelp Creds and Yelp Search"
   ]
  },
  {
   "cell_type": "code",
   "execution_count": 2,
   "id": "4b65a10e",
   "metadata": {},
   "outputs": [],
   "source": [
    "with open('/home/vanica/.secret/yelp_api.json') as f:\n",
    "    login = json.load(f)\n",
    "    \n",
    "yelp = YelpAPI(login['api-key'], timeout_s=5.0)"
   ]
  },
  {
   "cell_type": "markdown",
   "id": "a2e9307a",
   "metadata": {},
   "source": [
    "## Location, Term, and JSON File name"
   ]
  },
  {
   "cell_type": "code",
   "execution_count": 3,
   "id": "5363f78b",
   "metadata": {},
   "outputs": [],
   "source": [
    "location = \"Memphis, TN\"\n",
    "term = 'Wings'\n",
    "folder = 'Data/'\n",
    "json_file = folder + f\"{location.split(',')[0]}-{term}.json\""
   ]
  },
  {
   "cell_type": "markdown",
   "id": "5add7bd0",
   "metadata": {},
   "source": [
    "### Helper Methods"
   ]
  },
  {
   "cell_type": "code",
   "execution_count": 4,
   "id": "b1a0e945",
   "metadata": {},
   "outputs": [],
   "source": [
    "def create_json_file(json_file, delete_if_exist=False):\n",
    "    # Check is Json existw\n",
    "    file_exists = os.path.isfile(json_file)\n",
    "    \n",
    "    # if does exist\n",
    "    if file_exists == True:\n",
    "        \n",
    "        #check if needs to be deleted\n",
    "        if delete_if_exist == True:\n",
    "            print(f\"[!] {json_file} is being deleted\")\n",
    "            \n",
    "            os.remove(json_file)\n",
    "            \n",
    "        else:\n",
    "            print(f\"[!] {json_file} already exists\")\n",
    "    # if it does not exist\n",
    "    else:\n",
    "        #let user know\n",
    "        print(f\"[!] {json_file} does not exist, creating now\")\n",
    "        \n",
    "        # create any needed folders\n",
    "        folder = os.path.dirname(json_file)\n",
    "        \n",
    "        # if json file is included a folder\n",
    "        if len(folder) > 0:\n",
    "            os.makedirs(folder, exist_ok=True)\n",
    "        # save empty list\n",
    "        with open(json_file, 'w') as f:\n",
    "            json.dump([], f)"
   ]
  },
  {
   "cell_type": "markdown",
   "id": "a7db2af1",
   "metadata": {},
   "source": [
    "### Setting up Initial Load"
   ]
  },
  {
   "cell_type": "code",
   "execution_count": 5,
   "id": "12923f51",
   "metadata": {},
   "outputs": [
    {
     "name": "stdout",
     "output_type": "stream",
     "text": [
      "[!] Data/Memphis-Wings.json does not exist, creating now\n",
      "- 0 prev results found\n"
     ]
    },
    {
     "data": {
      "text/plain": [
       "42"
      ]
     },
     "execution_count": 5,
     "metadata": {},
     "output_type": "execute_result"
    }
   ],
   "source": [
    "create_json_file(json_file, delete_if_exist=True)\n",
    "\n",
    "# load up prev results\n",
    "with open(json_file, 'r') as f:\n",
    "    prev_results = json.load(f)\n",
    "    \n",
    "\n",
    "# set offset baseed on prev results\n",
    "n_results = len(prev_results)\n",
    "print(f\"- {n_results} prev results found\")\n",
    "\n",
    "# use yelp api to search\n",
    "results = yelp.search_query(location=location, term=term, offset=n_results)\n",
    "\n",
    "results_per_page = len(results['businesses'])\n",
    "n_pages = math.ceil((results['total']-n_results)/results_per_page)\n",
    "n_pages"
   ]
  },
  {
   "cell_type": "code",
   "execution_count": 6,
   "id": "296f14b6",
   "metadata": {},
   "outputs": [
    {
     "data": {
      "application/json": {
       "ascii": false,
       "bar_format": null,
       "colour": null,
       "elapsed": 0.009958267211914062,
       "initial": 0,
       "n": 0,
       "ncols": null,
       "nrows": 24,
       "postfix": null,
       "prefix": "",
       "rate": null,
       "total": 42,
       "unit": "it",
       "unit_divisor": 1000,
       "unit_scale": false
      },
      "application/vnd.jupyter.widget-view+json": {
       "model_id": "91c4780278c64c24924e53a6ddfee010",
       "version_major": 2,
       "version_minor": 0
      },
      "text/plain": [
       "  0%|          | 0/42 [00:00<?, ?it/s]"
      ]
     },
     "metadata": {},
     "output_type": "display_data"
    }
   ],
   "source": [
    "# Running loop to load rest of data through pagination\n",
    "\n",
    "for i in tqdm_notebook(range(1, n_pages+1)):\n",
    "    \n",
    "    # read in prev results\n",
    "    with open(json_file, 'r') as f:\n",
    "        prev_results = json.load(f)\n",
    "        \n",
    "    n_results = len(prev_results)\n",
    "    \n",
    "    if(n_results + results_per_page) > 1000:\n",
    "        print('Exceeding 1000 api calls, Stopping')\n",
    "        break\n",
    "    \n",
    "    # using n results as a offset\n",
    "    results = yelp.search_query(location=location, term=term, offset=n_results)\n",
    "    \n",
    "    ##appending new results and save file\n",
    "    prev_results.extend(results['businesses'])\n",
    "    with open(json_file, 'w') as f:\n",
    "        json.dump(prev_results, f)\n",
    "    "
   ]
  },
  {
   "cell_type": "markdown",
   "id": "f18d3f14",
   "metadata": {},
   "source": [
    "### Dataframe Extraction"
   ]
  },
  {
   "cell_type": "code",
   "execution_count": 7,
   "id": "e6722dce",
   "metadata": {},
   "outputs": [
    {
     "name": "stdout",
     "output_type": "stream",
     "text": [
      "<class 'pandas.core.frame.DataFrame'>\n",
      "RangeIndex: 838 entries, 0 to 837\n",
      "Data columns (total 16 columns):\n",
      " #   Column         Non-Null Count  Dtype  \n",
      "---  ------         --------------  -----  \n",
      " 0   id             838 non-null    object \n",
      " 1   alias          838 non-null    object \n",
      " 2   name           838 non-null    object \n",
      " 3   image_url      838 non-null    object \n",
      " 4   is_closed      838 non-null    bool   \n",
      " 5   url            838 non-null    object \n",
      " 6   review_count   838 non-null    int64  \n",
      " 7   categories     838 non-null    object \n",
      " 8   rating         838 non-null    float64\n",
      " 9   coordinates    838 non-null    object \n",
      " 10  transactions   838 non-null    object \n",
      " 11  location       838 non-null    object \n",
      " 12  phone          838 non-null    object \n",
      " 13  display_phone  838 non-null    object \n",
      " 14  distance       838 non-null    float64\n",
      " 15  price          595 non-null    object \n",
      "dtypes: bool(1), float64(2), int64(1), object(12)\n",
      "memory usage: 99.1+ KB\n"
     ]
    }
   ],
   "source": [
    "df = pd.read_json(json_file)\n",
    "df.info()"
   ]
  },
  {
   "cell_type": "markdown",
   "id": "60310113",
   "metadata": {},
   "source": [
    "### Checking for Duplicates"
   ]
  },
  {
   "cell_type": "code",
   "execution_count": 8,
   "id": "22065cec",
   "metadata": {},
   "outputs": [
    {
     "data": {
      "text/plain": [
       "0"
      ]
     },
     "execution_count": 8,
     "metadata": {},
     "output_type": "execute_result"
    }
   ],
   "source": [
    "df.duplicated(subset='id').sum()"
   ]
  },
  {
   "cell_type": "code",
   "execution_count": 9,
   "id": "ae849b0f",
   "metadata": {},
   "outputs": [
    {
     "data": {
      "text/plain": [
       "0"
      ]
     },
     "execution_count": 9,
     "metadata": {},
     "output_type": "execute_result"
    }
   ],
   "source": [
    "df = df.drop_duplicates(subset='id')\n",
    "df.duplicated(subset='id').sum()"
   ]
  },
  {
   "cell_type": "code",
   "execution_count": 10,
   "id": "2ce8310d",
   "metadata": {},
   "outputs": [],
   "source": [
    "csv = folder + f\"{location.split(',')[0]}-{term}.csv.gz\"\n",
    "\n",
    "df.to_csv(csv, compression='gzip', index=False)"
   ]
  }
 ],
 "metadata": {
  "kernelspec": {
   "display_name": "Python (dojo-env)",
   "language": "python",
   "name": "dojo-env"
  },
  "language_info": {
   "codemirror_mode": {
    "name": "ipython",
    "version": 3
   },
   "file_extension": ".py",
   "mimetype": "text/x-python",
   "name": "python",
   "nbconvert_exporter": "python",
   "pygments_lexer": "ipython3",
   "version": "3.8.13"
  },
  "toc": {
   "base_numbering": 1,
   "nav_menu": {},
   "number_sections": true,
   "sideBar": true,
   "skip_h1_title": false,
   "title_cell": "Table of Contents",
   "title_sidebar": "Contents",
   "toc_cell": false,
   "toc_position": {},
   "toc_section_display": true,
   "toc_window_display": false
  }
 },
 "nbformat": 4,
 "nbformat_minor": 5
}
